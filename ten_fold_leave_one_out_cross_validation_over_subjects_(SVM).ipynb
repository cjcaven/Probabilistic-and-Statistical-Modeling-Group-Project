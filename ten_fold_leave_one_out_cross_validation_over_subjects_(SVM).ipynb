{
  "nbformat": 4,
  "nbformat_minor": 0,
  "metadata": {
    "colab": {
      "provenance": []
    },
    "kernelspec": {
      "name": "python3",
      "display_name": "Python 3"
    },
    "language_info": {
      "name": "python"
    }
  },
  "cells": [
    {
      "cell_type": "code",
      "execution_count": null,
      "metadata": {
        "id": "oQFjklrCKDMV"
      },
      "outputs": [],
      "source": [
        "import nibabel as nib # library for loading nii files\n",
        "import numpy as np\n",
        "import matplotlib.pyplot as plt"
      ]
    },
    {
      "cell_type": "code",
      "source": [
        "from google.colab import drive\n",
        "drive.mount('/content/drive')"
      ],
      "metadata": {
        "colab": {
          "base_uri": "https://localhost:8080/"
        },
        "id": "dtw4geFWKJcZ",
        "outputId": "9b55936b-cc7b-4b54-f150-14b41ed5e0f9"
      },
      "execution_count": null,
      "outputs": [
        {
          "output_type": "stream",
          "name": "stdout",
          "text": [
            "Drive already mounted at /content/drive; to attempt to forcibly remount, call drive.mount(\"/content/drive\", force_remount=True).\n"
          ]
        }
      ]
    },
    {
      "cell_type": "code",
      "source": [
        "# load mask for region of interest (BA3b) + Stim > Null\n",
        "mask_load = nib.load('../content/rPSC_3b_TR50_right_CUT_Stim_vs_Null.nii').get_fdata()"
      ],
      "metadata": {
        "id": "kQdjPM1hKSJi"
      },
      "execution_count": null,
      "outputs": []
    },
    {
      "cell_type": "code",
      "source": [
        "# loading contrast stim_press > null for all subjects\n",
        "\n",
        "sub_inds = ['01', '02', '03', '04', '05', '06', '07', '08', '09', '10']\n",
        "\n",
        "con_1_files = ['sub_' + ind + '_con_0001.nii' for ind in sub_inds]\n",
        "\n",
        "stim_press = []\n",
        "for file in con_1_files:\n",
        "  con_1_load = nib.load(file).get_fdata()\n",
        "  con_1_mask = con_1_load[mask_load != 0]\n",
        "  stim_press.append(con_1_mask)\n",
        "\n",
        "con_2_files = ['sub_' + ind + '_con_0002.nii' for ind in sub_inds]\n",
        "\n",
        "# loading contrast stim_flutt > null for all subjects\n",
        "\n",
        "stim_flutt = []\n",
        "for file in con_2_files:\n",
        "  con_2_load = nib.load(file).get_fdata()\n",
        "  con_2_mask = con_2_load[mask_load != 0]\n",
        "  stim_flutt.append(con_2_mask)\n",
        "\n",
        "# loading contrast stim_vibro > null for all subjects\n",
        "\n",
        "# con_3_files = ['sub_' + ind + '_con_0003.nii' for ind in sub_inds]\n",
        "\n",
        "# stim_vibro = []\n",
        "# for file in con_3_files:\n",
        "#   con_3_load = nib.load(file).get_fdata()\n",
        "#   con_3_mask = con_3_load[mask_load != 0]\n",
        "#   stim_vibro.append(con_3_mask)"
      ],
      "metadata": {
        "id": "A-qKXQ1dhMra"
      },
      "execution_count": null,
      "outputs": []
    },
    {
      "cell_type": "code",
      "source": [
        "data = stim_press + stim_flutt\n",
        "labels = [0] * 10 + [1] * 10 # 0 - press, 1 - flutt"
      ],
      "metadata": {
        "id": "SIYE2ZnksjgL"
      },
      "execution_count": null,
      "outputs": []
    },
    {
      "cell_type": "code",
      "source": [
        "from sklearn import svm\n",
        "\n",
        "model = svm.SVC(kernel=\"linear\")\n",
        "model.fit(data, labels)\n",
        "\n",
        "print(model.predict(data)) # predictions for svm from all data"
      ],
      "metadata": {
        "colab": {
          "base_uri": "https://localhost:8080/"
        },
        "id": "CYDuSTTVtVAx",
        "outputId": "d5ce2674-5754-412c-816e-42816c73280b"
      },
      "execution_count": null,
      "outputs": [
        {
          "output_type": "stream",
          "name": "stdout",
          "text": [
            "[0 0 0 0 0 0 0 0 0 0 1 1 1 1 1 1 1 1 0 1]\n"
          ]
        }
      ]
    },
    {
      "cell_type": "code",
      "source": [
        "# confusion matrix\n",
        "conf_s_s = 0\n",
        "conf_f_f = 0\n",
        "conf_s_f = 0\n",
        "conf_f_s = 0\n",
        "\n",
        "# cross-validation\n",
        "for i in range(10):\n",
        "  stim_press_1 = []\n",
        "  stim_flutt_1 = []\n",
        "  for j in range(10):\n",
        "    if j != i: # leave-one-out\n",
        "      stim_press_1.append(list(stim_press[j]))\n",
        "      stim_flutt_1.append(list(stim_flutt[j]))\n",
        "\n",
        "  data_1 = stim_press_1 + stim_flutt_1\n",
        "  labels_1 = [0] * 9 + [1] * 9\n",
        "\n",
        "  model.fit(data_1, labels_1)\n",
        "\n",
        "  # predict on left out data\n",
        "  pred_0, pred_1 = model.predict([stim_press[i], stim_flutt[i]])\n",
        "\n",
        "  if pred_0 == 0:\n",
        "    conf_s_s += 1 # correct stim\n",
        "  else:\n",
        "    conf_s_f += 1 # incorrect stim\n",
        "\n",
        "  if pred_1 == 1:\n",
        "    conf_f_f += 1 # correct flutt\n",
        "  else:\n",
        "    conf_f_s += 1 # incorrect flutt\n",
        "\n",
        "# convert to percent minus 50/50 chance\n",
        "conf = [[(conf_s_s / 10 - 0.5) * 100, (conf_s_f / 10 - 0.5) * 100], [(conf_f_s / 10 - 0.5) * 100, (conf_f_f / 10 - 0.5) * 100]]\n",
        "\n",
        "print(conf)"
      ],
      "metadata": {
        "colab": {
          "base_uri": "https://localhost:8080/"
        },
        "id": "RPFnBR7BuRIU",
        "outputId": "cb8c5f96-5aca-4498-cc40-c27b47c45b2f"
      },
      "execution_count": null,
      "outputs": [
        {
          "output_type": "stream",
          "name": "stdout",
          "text": [
            "[[30.000000000000004, -30.0], [19.999999999999996, -20.0]]\n"
          ]
        }
      ]
    },
    {
      "cell_type": "code",
      "source": [
        "# show confusion matrix\n",
        "plt.figure()\n",
        "im = plt.imshow(conf)\n",
        "plt.title('Confusion matrix')\n",
        "plt.colorbar()\n",
        "plt.yticks([0.0, 1.0], ['stim_press', 'stim_flutt'])\n",
        "plt.xticks([0.0, 1.0], ['stim_press', 'stim_flutt'])"
      ],
      "metadata": {
        "colab": {
          "base_uri": "https://localhost:8080/",
          "height": 504
        },
        "id": "gtAST4MhymCM",
        "outputId": "cf372e83-7414-4fc1-88b1-f9efdf54444e"
      },
      "execution_count": null,
      "outputs": [
        {
          "output_type": "execute_result",
          "data": {
            "text/plain": [
              "([<matplotlib.axis.XTick at 0x7daf53e063b0>,\n",
              "  <matplotlib.axis.XTick at 0x7daf53e06380>],\n",
              " [Text(0.0, 0, 'stim_press'), Text(1.0, 0, 'stim_flutt')])"
            ]
          },
          "metadata": {},
          "execution_count": 56
        },
        {
          "output_type": "display_data",
          "data": {
            "text/plain": [
              "<Figure size 640x480 with 2 Axes>"
            ],
            "image/png": "[encoded data removed]"
          },
          "metadata": {}
        }
      ]
    }
  ]
}